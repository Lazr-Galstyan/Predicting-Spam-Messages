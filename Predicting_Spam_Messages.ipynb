{
  "nbformat": 4,
  "nbformat_minor": 0,
  "metadata": {
    "colab": {
      "name": "Predicting Spam Messages.ipynb",
      "provenance": [],
      "collapsed_sections": []
    },
    "kernelspec": {
      "name": "python3",
      "display_name": "Python 3"
    }
  },
  "cells": [
    {
      "cell_type": "code",
      "metadata": {
        "id": "bIgcrs3e6-Qb",
        "colab_type": "code",
        "colab": {
          "base_uri": "https://localhost:8080/",
          "height": 124
        },
        "outputId": "9cb022be-c6de-4fbd-f718-eaf275d4f901"
      },
      "source": [
        "from google.colab import drive\n",
        "drive.mount('/content/drive')"
      ],
      "execution_count": null,
      "outputs": [
        {
          "output_type": "stream",
          "text": [
            "Go to this URL in a browser: https://accounts.google.com/o/oauth2/auth?client_id=947318989803-6bn6qk8qdgf4n4g3pfee6491hc0brc4i.apps.googleusercontent.com&redirect_uri=urn%3aietf%3awg%3aoauth%3a2.0%3aoob&response_type=code&scope=email%20https%3a%2f%2fwww.googleapis.com%2fauth%2fdocs.test%20https%3a%2f%2fwww.googleapis.com%2fauth%2fdrive%20https%3a%2f%2fwww.googleapis.com%2fauth%2fdrive.photos.readonly%20https%3a%2f%2fwww.googleapis.com%2fauth%2fpeopleapi.readonly\n",
            "\n",
            "Enter your authorization code:\n",
            "··········\n",
            "Mounted at /content/drive\n"
          ],
          "name": "stdout"
        }
      ]
    },
    {
      "cell_type": "markdown",
      "metadata": {
        "id": "hjQVNwXGNnU8",
        "colab_type": "text"
      },
      "source": [
        "Every day we get different messages. There are different algorithm that are used to categorize those messages as ham and spam. In this analysis, I will try to predict whether or not the message is spam. I will use the dataset provided by UC Irvince, which you can find here: https://archive.ics.uci.edu/ml/datasets/sms+spam+collection."
      ]
    },
    {
      "cell_type": "markdown",
      "metadata": {
        "id": "JTmPJMRgyYYU",
        "colab_type": "text"
      },
      "source": [
        "###**Exploratory Data Analysis**"
      ]
    },
    {
      "cell_type": "markdown",
      "metadata": {
        "id": "C1A7E1-7ylUw",
        "colab_type": "text"
      },
      "source": [
        "First I need to import the necessary packages."
      ]
    },
    {
      "cell_type": "code",
      "metadata": {
        "id": "7DhNSV8E7aBl",
        "colab_type": "code",
        "colab": {}
      },
      "source": [
        "# Import the necessary packages, import the datasets and set the max rows to show to 100\n",
        "import numpy as np\n",
        "import pandas as pd\n",
        "import nltk\n",
        "import string\n",
        "import re\n",
        "from nltk.corpus import stopwords\n",
        "from sklearn.model_selection import cross_val_score\n",
        "# Import the dataset\n",
        "df = pd.read_table('/content/drive/My Drive/NLP/SMSSpamCollection', header = None, encoding = 'utf-8')\n",
        "# Note: The code above is the  direction to my google drive, so it can be different for you.\n",
        "# Show all the columns and 100 rows\n",
        "pd.set_option('display.max_rows', 100)\n",
        "pd.set_option('display.max_columns', 2)"
      ],
      "execution_count": null,
      "outputs": []
    },
    {
      "cell_type": "markdown",
      "metadata": {
        "id": "TFmK0FfTy01F",
        "colab_type": "text"
      },
      "source": [
        "Next, I will see how the dataset looks like, what are the variables, are there any missing values, and what is the shape of the dataset."
      ]
    },
    {
      "cell_type": "code",
      "metadata": {
        "id": "Ea39XHwOT1IK",
        "colab_type": "code",
        "colab": {
          "base_uri": "https://localhost:8080/",
          "height": 139
        },
        "outputId": "ad7720a6-29fe-42ee-d2ec-22527ec6740d"
      },
      "source": [
        "# Check the first 5 rows and the shape of dataframe\n",
        "print(df.head())\n",
        "print(df.shape)"
      ],
      "execution_count": null,
      "outputs": [
        {
          "output_type": "stream",
          "text": [
            "      0                                                  1\n",
            "0   ham  Go until jurong point, crazy.. Available only ...\n",
            "1   ham                      Ok lar... Joking wif u oni...\n",
            "2  spam  Free entry in 2 a wkly comp to win FA Cup fina...\n",
            "3   ham  U dun say so early hor... U c already then say...\n",
            "4   ham  Nah I don't think he goes to usf, he lives aro...\n",
            "(5572, 2)\n"
          ],
          "name": "stdout"
        }
      ]
    },
    {
      "cell_type": "code",
      "metadata": {
        "id": "tEgXFrssd3nK",
        "colab_type": "code",
        "colab": {
          "base_uri": "https://localhost:8080/",
          "height": 69
        },
        "outputId": "4f5c6621-fcb2-48b1-ae64-9ddc88f601f4"
      },
      "source": [
        "# Check the number of unique values in the dataframe\n",
        "print(df.nunique())"
      ],
      "execution_count": null,
      "outputs": [
        {
          "output_type": "stream",
          "text": [
            "0       2\n",
            "1    5169\n",
            "dtype: int64\n"
          ],
          "name": "stdout"
        }
      ]
    },
    {
      "cell_type": "code",
      "metadata": {
        "id": "QJ0UJe6kUF_9",
        "colab_type": "code",
        "colab": {
          "base_uri": "https://localhost:8080/",
          "height": 173
        },
        "outputId": "ddaf8bde-b5ed-498e-8214-004acc780cf6"
      },
      "source": [
        "# Get info about the dataframe\n",
        "df.info()"
      ],
      "execution_count": null,
      "outputs": [
        {
          "output_type": "stream",
          "text": [
            "<class 'pandas.core.frame.DataFrame'>\n",
            "RangeIndex: 5572 entries, 0 to 5571\n",
            "Data columns (total 2 columns):\n",
            " #   Column  Non-Null Count  Dtype \n",
            "---  ------  --------------  ----- \n",
            " 0   0       5572 non-null   object\n",
            " 1   1       5572 non-null   object\n",
            "dtypes: object(2)\n",
            "memory usage: 87.2+ KB\n"
          ],
          "name": "stdout"
        }
      ]
    },
    {
      "cell_type": "code",
      "metadata": {
        "id": "uLU3pTIYbaug",
        "colab_type": "code",
        "colab": {
          "base_uri": "https://localhost:8080/",
          "height": 69
        },
        "outputId": "f2ca1e3b-63af-4418-8712-b0bbb29aeaf3"
      },
      "source": [
        "# Check number of ham and spam mails\n",
        "classes = df[0]\n",
        "print(classes.value_counts())"
      ],
      "execution_count": null,
      "outputs": [
        {
          "output_type": "stream",
          "text": [
            "ham     4825\n",
            "spam     747\n",
            "Name: 0, dtype: int64\n"
          ],
          "name": "stdout"
        }
      ]
    },
    {
      "cell_type": "markdown",
      "metadata": {
        "id": "4iHfHCRfzHI4",
        "colab_type": "text"
      },
      "source": [
        "Note: The number spam messages is relatively small, which means that if I take all the messages as ham, then I will have around 87% accuracy (number of ham)/(number of total) * 100."
      ]
    },
    {
      "cell_type": "markdown",
      "metadata": {
        "id": "sUeKfVNR0RGA",
        "colab_type": "text"
      },
      "source": [
        "To start the analysis, I need to convert ham and spam to 0 and 1 and drop the duplicates. The following functions perform all that operations."
      ]
    },
    {
      "cell_type": "code",
      "metadata": {
        "id": "E2gfZSAKy9q0",
        "colab_type": "code",
        "colab": {
          "base_uri": "https://localhost:8080/",
          "height": 35
        },
        "outputId": "9761ee48-5cec-45b7-ae55-a1f30a414d4b"
      },
      "source": [
        "# Convert ham and spam to 0 and 1, drop the duplicate rows and reset the index\n",
        "def convert(row):\n",
        "  if row[0] == \"ham\":\n",
        "    return 0\n",
        "  else:\n",
        "    return 1\n",
        "\n",
        "df['spam'] = df.apply(convert, axis=1)\n",
        "df = df.drop([0], axis=1)\n",
        "# Drop the duplicates\n",
        "df.drop_duplicates(inplace = True)\n",
        "# Reset index\n",
        "df = df.reset_index(drop=True)\n",
        "print(df.shape)"
      ],
      "execution_count": null,
      "outputs": [
        {
          "output_type": "stream",
          "text": [
            "(5169, 2)\n"
          ],
          "name": "stdout"
        }
      ]
    },
    {
      "cell_type": "markdown",
      "metadata": {
        "id": "9wJdANUV0piL",
        "colab_type": "text"
      },
      "source": [
        "After applying the function to the dataset, I dropped the duplicate rows and changed the indexes to start from 0 again. As I removed the duplicate rows, and the number of rows decreased from 5572 to 5169."
      ]
    },
    {
      "cell_type": "code",
      "metadata": {
        "id": "JZmcaQz5Egre",
        "colab_type": "code",
        "colab": {
          "base_uri": "https://localhost:8080/",
          "height": 69
        },
        "outputId": "14ee197b-6bcc-4450-a03a-9fdfef8590b6"
      },
      "source": [
        "# Check number of ham and spam mails\n",
        "classes = df['spam']\n",
        "print(classes.value_counts())"
      ],
      "execution_count": null,
      "outputs": [
        {
          "output_type": "stream",
          "text": [
            "0    4516\n",
            "1     653\n",
            "Name: spam, dtype: int64\n"
          ],
          "name": "stdout"
        }
      ]
    },
    {
      "cell_type": "markdown",
      "metadata": {
        "id": "LLOYmh2RdE5w",
        "colab_type": "text"
      },
      "source": [
        "##**Text Preprocessing**"
      ]
    },
    {
      "cell_type": "markdown",
      "metadata": {
        "id": "WePOBI-fdOEL",
        "colab_type": "text"
      },
      "source": [
        "I need to remove https, email addresses, phone numbers, money signs, numbers, punctuations, white spaces between the words (if more than one), and leading and tailing white spaces. The reason is that I need to see if the occurance of email of phone number and not a specific email/phone number can indicate whether or not the email is spam. Also, I need to make all the words lowercase (\"he\" and \"He\" have the same meaning), remove the sropwords (is, which, this, etc) and normalize the lexicon (\"car\" and \"cars\" have the same meaning). "
      ]
    },
    {
      "cell_type": "code",
      "metadata": {
        "id": "0Lp3ldVqdNRZ",
        "colab_type": "code",
        "colab": {}
      },
      "source": [
        "# Take the text column\n",
        "text_messages = df[1]"
      ],
      "execution_count": null,
      "outputs": []
    },
    {
      "cell_type": "code",
      "metadata": {
        "id": "M5tS0VkenSYK",
        "colab_type": "code",
        "colab": {
          "base_uri": "https://localhost:8080/",
          "height": 104
        },
        "outputId": "4d3d762a-16e0-4024-aabe-02c721d65984"
      },
      "source": [
        "# Import the necessary libraries\n",
        "from nltk.stem.wordnet import WordNetLemmatizer\n",
        "nltk.download('stopwords')\n",
        "nltk.download('wordnet')"
      ],
      "execution_count": null,
      "outputs": [
        {
          "output_type": "stream",
          "text": [
            "[nltk_data] Downloading package stopwords to /root/nltk_data...\n",
            "[nltk_data]   Unzipping corpora/stopwords.zip.\n",
            "[nltk_data] Downloading package wordnet to /root/nltk_data...\n",
            "[nltk_data]   Unzipping corpora/wordnet.zip.\n"
          ],
          "name": "stdout"
        },
        {
          "output_type": "execute_result",
          "data": {
            "text/plain": [
              "True"
            ]
          },
          "metadata": {
            "tags": []
          },
          "execution_count": 10
        }
      ]
    },
    {
      "cell_type": "markdown",
      "metadata": {
        "id": "AsQp0Zmm2VLn",
        "colab_type": "text"
      },
      "source": [
        "To replace email address or phone numbers, I used regular expressions. I used the following website: http://regexlib.com/Search.aspx to get the necessary expressions. Below is a class, which includes all the function necessary to perform all the text celaning processes."
      ]
    },
    {
      "cell_type": "code",
      "metadata": {
        "id": "foonYIxadLOY",
        "colab_type": "code",
        "colab": {}
      },
      "source": [
        "# Create a class\n",
        "class PreprocessText:    \n",
        "    def __init__(self, language):\n",
        "        self.Lemmatizer = WordNetLemmatizer() \n",
        "        self.stop_words = stopwords.words(language)\n",
        "        \n",
        "    def replace_emails(self, text):\n",
        "        \"\"\"This function takes test as an argument\"\"\"\n",
        "        return re.sub(r'\\S+@\\S+', 'emailaddr', text)\n",
        "    \n",
        "    def replace_urls(self, text):\n",
        "        return re.sub(r'^http\\://[a-zA-Z0-9\\-\\.]+\\.[a-zA-Z]{2,3}(/\\S*)?$', 'webaddr', text)\n",
        "    \n",
        "    def replace_money(self, text):\n",
        "        return re.sub(r'£|\\$', 'money', text)\n",
        "    \n",
        "    def replace_phone(self, text):\n",
        "        return re.sub(r'^\\(?[\\d]{3}\\)?[\\s-]?[\\d]{3}[\\s-]?[\\d]{4}$', 'phone', text)\n",
        "    \n",
        "    def replace_number(self, text):\n",
        "        return re.sub(r'\\d+(\\.\\d+)?', 'number', text)\n",
        "    \n",
        "    def _remove_punctuation(self, text):\n",
        "        return re.sub(r'[^\\w\\d\\s]', ' ', text.lower())\n",
        "    \n",
        "    def preprocess_text(self, text, keep_emails = False, keep_urls = False, keep_money = False, keep_phone = False, keep_number = False):\n",
        "        text = text\n",
        "        if keep_emails == False:\n",
        "            text = self.replace_emails(text)\n",
        "        if keep_urls == False:\n",
        "            text = self.replace_urls(text)\n",
        "        if keep_money == False:\n",
        "            text = self.replace_money(text)\n",
        "        if keep_phone == False:\n",
        "            text = self.replace_phone(text)\n",
        "        if keep_number == False:\n",
        "            text = self.replace_number(text)\n",
        "        text = self._remove_punctuation(text)\n",
        "        text = ' '.join(\n",
        "        self.Lemmatizer.lemmatize(term) \n",
        "        for term in text.split()\n",
        "        if term not in self.stop_words\n",
        "        )\n",
        "        return text\n",
        "\n",
        "    def preprocess_data(self, data, keep_emails = False, keep_urls = False, keep_money = False, keep_phone = False, keep_number = False):\n",
        "        assert(type(data) == list)\n",
        "        processed_data = []\n",
        "        for i in data:\n",
        "            processed_data.append(self.preprocess_text(i, keep_emails = keep_emails, keep_urls = keep_emails, keep_money = keep_emails, keep_phone = keep_emails, keep_number = keep_emails))\n",
        "        return processed_data\n",
        "            "
      ],
      "execution_count": null,
      "outputs": []
    },
    {
      "cell_type": "code",
      "metadata": {
        "id": "KDuf68n9xSze",
        "colab_type": "code",
        "colab": {
          "base_uri": "https://localhost:8080/",
          "height": 121
        },
        "outputId": "a0e188e4-e780-47b5-9274-e2f9ee2a5b6c"
      },
      "source": [
        "# Clean the text\n",
        "pt = PreprocessText(language = 'english')\n",
        "text_messages = pd.Series(pt.preprocess_data(list(text_messages)))\n",
        "text_messages.head()"
      ],
      "execution_count": null,
      "outputs": [
        {
          "output_type": "execute_result",
          "data": {
            "text/plain": [
              "0    go jurong point crazy available bugis n great ...\n",
              "1                              ok lar joking wif u oni\n",
              "2    free entry number wkly comp win fa cup final t...\n",
              "3                  u dun say early hor u c already say\n",
              "4                  nah think go usf life around though\n",
              "dtype: object"
            ]
          },
          "metadata": {
            "tags": []
          },
          "execution_count": 12
        }
      ]
    },
    {
      "cell_type": "markdown",
      "metadata": {
        "id": "1R9eBN_Yz4SR",
        "colab_type": "text"
      },
      "source": [
        "Next, I will visualize the occurance of different words, to see which words are the most common in the text."
      ]
    },
    {
      "cell_type": "code",
      "metadata": {
        "id": "G20N7cUQTaFr",
        "colab_type": "code",
        "colab": {
          "base_uri": "https://localhost:8080/",
          "height": 52
        },
        "outputId": "e04cc278-d156-480e-9934-cc2185dd043d"
      },
      "source": [
        "# Import the necessary packages\n",
        "nltk.download('punkt')\n",
        "import matplotlib\n",
        "import matplotlib.pyplot as plt\n",
        "from collections import Counter"
      ],
      "execution_count": null,
      "outputs": [
        {
          "output_type": "stream",
          "text": [
            "[nltk_data] Downloading package punkt to /root/nltk_data...\n",
            "[nltk_data]   Unzipping tokenizers/punkt.zip.\n"
          ],
          "name": "stdout"
        }
      ]
    },
    {
      "cell_type": "code",
      "metadata": {
        "id": "0PoFxlzxhDFA",
        "colab_type": "code",
        "colab": {
          "base_uri": "https://localhost:8080/",
          "height": 445
        },
        "outputId": "7a4ac8ae-26f6-4d03-dd75-d09527f7c031"
      },
      "source": [
        "# Plot the most common words\n",
        "count = pd.DataFrame(pd.Series(' '.join(text_messages).split()).value_counts()[:10],\n",
        "                    columns=['Frequency'])\n",
        "matplotlib.style.use('ggplot')\n",
        "count.plot.bar(rot=0, figsize = (19, 7))"
      ],
      "execution_count": null,
      "outputs": [
        {
          "output_type": "execute_result",
          "data": {
            "text/plain": [
              "<matplotlib.axes._subplots.AxesSubplot at 0x7f7adab35710>"
            ]
          },
          "metadata": {
            "tags": []
          },
          "execution_count": 14
        },
        {
          "output_type": "display_data",
          "data": {
            "image/png": "[encoded data removed]",
            "text/plain": [
              "<Figure size 1368x504 with 1 Axes>"
            ]
          },
          "metadata": {
            "tags": []
          }
        }
      ]
    },
    {
      "cell_type": "markdown",
      "metadata": {
        "id": "hTQSFQJcXzWp",
        "colab_type": "text"
      },
      "source": [
        "##**Feature Engineering**"
      ]
    },
    {
      "cell_type": "markdown",
      "metadata": {
        "id": "PnAWMHecX9Jj",
        "colab_type": "text"
      },
      "source": [
        "After cleaning the data, I need to perform feature engineering. First, I need to tokenize the data. I can tokenize not only each word or each sentence, but also pair of words. For example, bigram tokenization is when a pair of two words is taken as a token. The advantage of bigram tokenization is that it allows to capture also the importance of word pairs. I will do unigram and bigram tokenization, and then will calculate tf-idf statistics to see the frequency of each token in the text."
      ]
    },
    {
      "cell_type": "code",
      "metadata": {
        "id": "qWjsQLgyX7m_",
        "colab_type": "code",
        "colab": {
          "base_uri": "https://localhost:8080/",
          "height": 35
        },
        "outputId": "d3c88af8-fec2-4c0d-ef79-1d3abebef6ba"
      },
      "source": [
        "# Import TFidfVectorizer to calculate tf-idf statistics. I use ngram_range as 1 and 2 to take unigram and bigram \n",
        "from sklearn.feature_extraction.text import TfidfVectorizer\n",
        "vectorizer = TfidfVectorizer(ngram_range=(1, 2))\n",
        "n_grams = vectorizer.fit_transform(text_messages)\n",
        "# Check the shape of the final data\n",
        "print(n_grams.shape)"
      ],
      "execution_count": null,
      "outputs": [
        {
          "output_type": "stream",
          "text": [
            "(5169, 37891)\n"
          ],
          "name": "stdout"
        }
      ]
    },
    {
      "cell_type": "markdown",
      "metadata": {
        "id": "gDzDCqArDD3r",
        "colab_type": "text"
      },
      "source": [
        "##**Build Models**"
      ]
    },
    {
      "cell_type": "markdown",
      "metadata": {
        "id": "WebLrPmKpFBD",
        "colab_type": "text"
      },
      "source": [
        "I will make different models to see which one is better for prediction. First, I will try SVM model. I will try different parameters and will use Bayesian Optimization method to get the best parameters."
      ]
    },
    {
      "cell_type": "code",
      "metadata": {
        "id": "snJUzO_Xv5rS",
        "colab_type": "code",
        "colab": {}
      },
      "source": [
        "# Import the necessary packages\n",
        "from hyperopt import fmin, tpe, hp, STATUS_OK, Trials\n",
        "from sklearn.model_selection import train_test_split\n",
        "from sklearn.model_selection import cross_val_score\n",
        "from sklearn.metrics import roc_curve, auc\n",
        "from sklearn.metrics import roc_auc_score\n",
        "from sklearn.metrics import confusion_matrix\n",
        "from sklearn.metrics import classification_report\n",
        "from sklearn.metrics import accuracy_score"
      ],
      "execution_count": null,
      "outputs": []
    },
    {
      "cell_type": "code",
      "metadata": {
        "id": "Qf2rNt0af30f",
        "colab_type": "code",
        "colab": {}
      },
      "source": [
        "# Set X and y variables and split into train test 80/20\n",
        "X = n_grams\n",
        "y = df['spam']\n",
        "X_train, X_test, y_train, y_test = train_test_split(X, y, test_size = 0.2, random_state = 123)"
      ],
      "execution_count": null,
      "outputs": []
    },
    {
      "cell_type": "markdown",
      "metadata": {
        "id": "m952Xih9dtxO",
        "colab_type": "text"
      },
      "source": [
        "Now, I will perform Bayesian Optimization on the train dataset to find the best parameters."
      ]
    },
    {
      "cell_type": "code",
      "metadata": {
        "id": "kx1U8vlJIOLg",
        "colab_type": "code",
        "colab": {
          "base_uri": "https://localhost:8080/",
          "height": 555
        },
        "outputId": "db9544c7-777b-4349-a1b6-2f0260afd70f"
      },
      "source": [
        "# Import Support Vector Classifier and find the best parameters\n",
        "from sklearn.svm import SVC\n",
        "def acc_model(params):\n",
        "    clf = SVC(**params)\n",
        "    return cross_val_score(clf, X_train, y_train).mean()\n",
        "\n",
        "param_space = {\n",
        "    'C': hp.uniform('C', 1,3),\n",
        "    'kernel': hp.choice('kernel', [\"linear\", \"poly\", \"rbf\", \"sigmoid\"]),\n",
        "    'gamma': hp.choice('gamma', [\"scale\", \"auto\"])}\n",
        "\n",
        "best_svc = 0\n",
        "best_params = []\n",
        "def f(params):\n",
        "    global best_svc\n",
        "    acc = acc_model(params)\n",
        "    if acc > best_svc:\n",
        "        best_svc = acc\n",
        "        best_params.append(params)\n",
        "    print('The accuracy is {} and the best params are {}'.format(round(acc,3), params))\n",
        "    return -acc\n",
        "\n",
        "trials = Trials()\n",
        "best_svc = fmin(f, param_space, algo=tpe.suggest, max_evals=30, trials=trials)"
      ],
      "execution_count": null,
      "outputs": [
        {
          "output_type": "stream",
          "text": [
            "The accuracy is 0.978 and the best params are {'C': 2.4280295532009735, 'gamma': 'scale', 'kernel': 'linear'}\n",
            "The accuracy is 0.967 and the best params are {'C': 2.3738745179808998, 'gamma': 'scale', 'kernel': 'rbf'}\n",
            "The accuracy is 0.872 and the best params are {'C': 1.162419085542508, 'gamma': 'auto', 'kernel': 'sigmoid'}\n",
            "The accuracy is 0.98 and the best params are {'C': 1.462123890380021, 'gamma': 'scale', 'kernel': 'sigmoid'}\n",
            "The accuracy is 0.978 and the best params are {'C': 1.3937540482923148, 'gamma': 'auto', 'kernel': 'linear'}\n",
            "The accuracy is 0.978 and the best params are {'C': 1.3201138932502459, 'gamma': 'auto', 'kernel': 'linear'}\n",
            "The accuracy is 0.872 and the best params are {'C': 2.089999001228091, 'gamma': 'auto', 'kernel': 'rbf'}\n",
            "The accuracy is 0.978 and the best params are {'C': 2.208615172769209, 'gamma': 'scale', 'kernel': 'linear'}\n",
            "The accuracy is 0.916 and the best params are {'C': 1.5651592599504782, 'gamma': 'scale', 'kernel': 'poly'}\n",
            "The accuracy is 0.978 and the best params are {'C': 2.49140530599636, 'gamma': 'scale', 'kernel': 'linear'}\n",
            "The accuracy is 0.967 and the best params are {'C': 2.4014931476480283, 'gamma': 'scale', 'kernel': 'rbf'}\n",
            "The accuracy is 0.981 and the best params are {'C': 2.1132079075346106, 'gamma': 'scale', 'kernel': 'sigmoid'}\n",
            "The accuracy is 0.872 and the best params are {'C': 2.974679978086836, 'gamma': 'auto', 'kernel': 'poly'}\n",
            "The accuracy is 0.978 and the best params are {'C': 1.465046093395722, 'gamma': 'auto', 'kernel': 'linear'}\n",
            "The accuracy is 0.978 and the best params are {'C': 1.4438865308048086, 'gamma': 'auto', 'kernel': 'linear'}\n",
            "The accuracy is 0.917 and the best params are {'C': 1.8940866171896003, 'gamma': 'scale', 'kernel': 'poly'}\n",
            "The accuracy is 0.912 and the best params are {'C': 1.1111656910071375, 'gamma': 'scale', 'kernel': 'poly'}\n",
            "The accuracy is 0.872 and the best params are {'C': 2.963607663896166, 'gamma': 'auto', 'kernel': 'sigmoid'}\n",
            "The accuracy is 0.917 and the best params are {'C': 2.863732119947489, 'gamma': 'scale', 'kernel': 'poly'}\n",
            "The accuracy is 0.978 and the best params are {'C': 2.071549564730149, 'gamma': 'scale', 'kernel': 'linear'}\n",
            "The accuracy is 0.981 and the best params are {'C': 1.708602810393498, 'gamma': 'scale', 'kernel': 'sigmoid'}\n",
            "The accuracy is 0.982 and the best params are {'C': 1.769066701628473, 'gamma': 'scale', 'kernel': 'sigmoid'}\n",
            "The accuracy is 0.981 and the best params are {'C': 1.7090676876457405, 'gamma': 'scale', 'kernel': 'sigmoid'}\n",
            "The accuracy is 0.982 and the best params are {'C': 1.78371580076603, 'gamma': 'scale', 'kernel': 'sigmoid'}\n",
            "The accuracy is 0.981 and the best params are {'C': 1.865067043487285, 'gamma': 'scale', 'kernel': 'sigmoid'}\n",
            "The accuracy is 0.981 and the best params are {'C': 1.701929633822474, 'gamma': 'scale', 'kernel': 'sigmoid'}\n",
            "The accuracy is 0.981 and the best params are {'C': 2.6357442501333237, 'gamma': 'scale', 'kernel': 'sigmoid'}\n",
            "The accuracy is 0.981 and the best params are {'C': 1.8994712222717156, 'gamma': 'scale', 'kernel': 'sigmoid'}\n",
            "The accuracy is 0.979 and the best params are {'C': 1.248403607669721, 'gamma': 'scale', 'kernel': 'sigmoid'}\n",
            "The accuracy is 0.981 and the best params are {'C': 2.271776985244484, 'gamma': 'scale', 'kernel': 'sigmoid'}\n",
            "100%|██████████| 30/30 [02:14<00:00,  4.49s/it, best loss: -0.9816203143893591]\n"
          ],
          "name": "stdout"
        }
      ]
    },
    {
      "cell_type": "code",
      "metadata": {
        "id": "zOIPWxy52Zz6",
        "colab_type": "code",
        "colab": {
          "base_uri": "https://localhost:8080/",
          "height": 225
        },
        "outputId": "93598023-771e-4a91-bd0e-6e7f24d0e04c"
      },
      "source": [
        "# Fit model on train dataset\n",
        "from sklearn.svm import SVC\n",
        "best_params = best_params[-1]\n",
        "SVC = SVC(**best_params)\n",
        "SVC1 = SVC.fit(X_train, y_train)\n",
        "# Make the confustion matrix and calculate AUC score\n",
        "SVC_pred = SVC1.predict(X_test)\n",
        "print(confusion_matrix(y_test, SVC_pred))\n",
        "print(\"Test AUC score for SVC is\", roc_auc_score(y_test, SVC_pred))\n",
        "print(classification_report(y_test, SVC_pred))"
      ],
      "execution_count": null,
      "outputs": [
        {
          "output_type": "stream",
          "text": [
            "[[906   5]\n",
            " [ 19 104]]\n",
            "Test AUC score for SVC is 0.9200199905401909\n",
            "              precision    recall  f1-score   support\n",
            "\n",
            "           0       0.98      0.99      0.99       911\n",
            "           1       0.95      0.85      0.90       123\n",
            "\n",
            "    accuracy                           0.98      1034\n",
            "   macro avg       0.97      0.92      0.94      1034\n",
            "weighted avg       0.98      0.98      0.98      1034\n",
            "\n"
          ],
          "name": "stdout"
        }
      ]
    },
    {
      "cell_type": "markdown",
      "metadata": {
        "id": "qbkkKcAuGeui",
        "colab_type": "text"
      },
      "source": [
        "With SVM I get around 98% accuracy and 0.92 AUC score. Note again that the data are not well balanced and there are 4516 ham and 653 spam emails, which means that by assigning all the emails as ham I would get 87% accuracy. From the confusion matrix we can see that we have mainly False Positive errors, which means that the model sometimes wrongly predicts the message is spam."
      ]
    },
    {
      "cell_type": "markdown",
      "metadata": {
        "id": "FBvwpVcJgk_5",
        "colab_type": "text"
      },
      "source": [
        "Next I will make Random Forest model."
      ]
    },
    {
      "cell_type": "code",
      "metadata": {
        "id": "lXwHr304HJ-P",
        "colab_type": "code",
        "colab": {
          "base_uri": "https://localhost:8080/",
          "height": 555
        },
        "outputId": "867bb2d5-2481-459c-e7c5-3abd98653c21"
      },
      "source": [
        "# Import Random Forest Classifier and find the best parameters\n",
        "from sklearn.ensemble import RandomForestClassifier\n",
        "def acc_model(params):\n",
        "    clf = RandomForestClassifier(**params)\n",
        "    return cross_val_score(clf, X_train, y_train).mean()\n",
        "\n",
        "param_space = {\n",
        "    'max_depth': hp.choice('max_depth', range(100,200)),\n",
        "    'max_features': hp.choice('max_features', range(100,200)),\n",
        "    'n_estimators': hp.choice('n_estimators', range(250,350)),\n",
        "    'criterion': hp.choice('criterion', [\"gini\", \"entropy\"])\n",
        "}\n",
        "\n",
        "best_rf = 0\n",
        "best_params_rf = []\n",
        "def f(params):\n",
        "    global best_rf\n",
        "    acc = acc_model(params)\n",
        "    if acc > best_rf:\n",
        "      best_rf = acc\n",
        "      best_params_rf.append(params)\n",
        "    print('The accuracy is {} and the best params are {}'.format(round(acc,3), params))\n",
        "    return -acc\n",
        "\n",
        "trials = Trials()\n",
        "best_rf = fmin(f, param_space, algo=tpe.suggest, max_evals=30, trials=trials)"
      ],
      "execution_count": null,
      "outputs": [
        {
          "output_type": "stream",
          "text": [
            "The accuracy is 0.971 and the best params are {'criterion': 'gini', 'max_depth': 127, 'max_features': 142, 'n_estimators': 344}\n",
            "The accuracy is 0.971 and the best params are {'criterion': 'gini', 'max_depth': 119, 'max_features': 172, 'n_estimators': 274}\n",
            "The accuracy is 0.97 and the best params are {'criterion': 'entropy', 'max_depth': 128, 'max_features': 147, 'n_estimators': 331}\n",
            "The accuracy is 0.971 and the best params are {'criterion': 'gini', 'max_depth': 121, 'max_features': 152, 'n_estimators': 293}\n",
            "The accuracy is 0.973 and the best params are {'criterion': 'gini', 'max_depth': 108, 'max_features': 174, 'n_estimators': 299}\n",
            "The accuracy is 0.971 and the best params are {'criterion': 'entropy', 'max_depth': 132, 'max_features': 180, 'n_estimators': 303}\n",
            "The accuracy is 0.97 and the best params are {'criterion': 'gini', 'max_depth': 109, 'max_features': 140, 'n_estimators': 336}\n",
            "The accuracy is 0.97 and the best params are {'criterion': 'entropy', 'max_depth': 110, 'max_features': 139, 'n_estimators': 276}\n",
            "The accuracy is 0.966 and the best params are {'criterion': 'entropy', 'max_depth': 137, 'max_features': 102, 'n_estimators': 269}\n",
            "The accuracy is 0.973 and the best params are {'criterion': 'entropy', 'max_depth': 186, 'max_features': 181, 'n_estimators': 302}\n",
            "The accuracy is 0.968 and the best params are {'criterion': 'gini', 'max_depth': 183, 'max_features': 101, 'n_estimators': 260}\n",
            "The accuracy is 0.973 and the best params are {'criterion': 'entropy', 'max_depth': 175, 'max_features': 186, 'n_estimators': 267}\n",
            "The accuracy is 0.973 and the best params are {'criterion': 'entropy', 'max_depth': 174, 'max_features': 179, 'n_estimators': 296}\n",
            "The accuracy is 0.971 and the best params are {'criterion': 'entropy', 'max_depth': 107, 'max_features': 162, 'n_estimators': 325}\n",
            "The accuracy is 0.97 and the best params are {'criterion': 'gini', 'max_depth': 128, 'max_features': 126, 'n_estimators': 299}\n",
            "The accuracy is 0.97 and the best params are {'criterion': 'entropy', 'max_depth': 197, 'max_features': 141, 'n_estimators': 297}\n",
            "The accuracy is 0.969 and the best params are {'criterion': 'entropy', 'max_depth': 194, 'max_features': 107, 'n_estimators': 347}\n",
            "The accuracy is 0.968 and the best params are {'criterion': 'gini', 'max_depth': 151, 'max_features': 110, 'n_estimators': 277}\n",
            "The accuracy is 0.972 and the best params are {'criterion': 'gini', 'max_depth': 183, 'max_features': 199, 'n_estimators': 305}\n",
            "The accuracy is 0.97 and the best params are {'criterion': 'gini', 'max_depth': 190, 'max_features': 139, 'n_estimators': 275}\n",
            "The accuracy is 0.972 and the best params are {'criterion': 'entropy', 'max_depth': 126, 'max_features': 181, 'n_estimators': 302}\n",
            "The accuracy is 0.968 and the best params are {'criterion': 'gini', 'max_depth': 108, 'max_features': 105, 'n_estimators': 348}\n",
            "The accuracy is 0.972 and the best params are {'criterion': 'entropy', 'max_depth': 130, 'max_features': 186, 'n_estimators': 267}\n",
            "The accuracy is 0.971 and the best params are {'criterion': 'entropy', 'max_depth': 168, 'max_features': 171, 'n_estimators': 286}\n",
            "The accuracy is 0.973 and the best params are {'criterion': 'entropy', 'max_depth': 186, 'max_features': 198, 'n_estimators': 306}\n",
            "The accuracy is 0.973 and the best params are {'criterion': 'entropy', 'max_depth': 176, 'max_features': 198, 'n_estimators': 306}\n",
            "The accuracy is 0.973 and the best params are {'criterion': 'entropy', 'max_depth': 167, 'max_features': 198, 'n_estimators': 265}\n",
            "The accuracy is 0.971 and the best params are {'criterion': 'entropy', 'max_depth': 106, 'max_features': 159, 'n_estimators': 265}\n",
            "The accuracy is 0.971 and the best params are {'criterion': 'entropy', 'max_depth': 166, 'max_features': 150, 'n_estimators': 259}\n",
            "The accuracy is 0.972 and the best params are {'criterion': 'entropy', 'max_depth': 167, 'max_features': 198, 'n_estimators': 311}\n",
            "100%|██████████| 30/30 [31:32<00:00, 63.09s/it, best loss: -0.973397823458283]\n"
          ],
          "name": "stdout"
        }
      ]
    },
    {
      "cell_type": "code",
      "metadata": {
        "id": "KuRu0lSTfzaR",
        "colab_type": "code",
        "colab": {
          "base_uri": "https://localhost:8080/",
          "height": 225
        },
        "outputId": "0fb3c3bf-bb87-4d58-c69a-fbe4a8a64650"
      },
      "source": [
        "# Fit model on train dataset\n",
        "from sklearn.ensemble import RandomForestClassifier\n",
        "best_params_rf = best_params_rf[-1]\n",
        "RandomForestClassifier = RandomForestClassifier(**best_params_rf)\n",
        "RandomForestClassifier1 = RandomForestClassifier.fit(X_train, y_train)\n",
        "# Make the confustion matrix and calculate AUC score\n",
        "RF_pred = RandomForestClassifier1.predict(X_test)\n",
        "print(confusion_matrix(y_test, RF_pred))\n",
        "print(\"Test AUC score for RF is\", roc_auc_score(y_test, RF_pred))\n",
        "print(classification_report(y_test, RF_pred))"
      ],
      "execution_count": null,
      "outputs": [
        {
          "output_type": "stream",
          "text": [
            "[[911   0]\n",
            " [ 30  93]]\n",
            "Test AUC score for RF is 0.8780487804878049\n",
            "              precision    recall  f1-score   support\n",
            "\n",
            "           0       0.97      1.00      0.98       911\n",
            "           1       1.00      0.76      0.86       123\n",
            "\n",
            "    accuracy                           0.97      1034\n",
            "   macro avg       0.98      0.88      0.92      1034\n",
            "weighted avg       0.97      0.97      0.97      1034\n",
            "\n"
          ],
          "name": "stdout"
        }
      ]
    },
    {
      "cell_type": "markdown",
      "metadata": {
        "id": "xTX2A-pClwjP",
        "colab_type": "text"
      },
      "source": [
        "I used Bayesian Optimization for RF as well and got 97% accuracy and 0.88 AUC score (lower than SVM). By looking at the confusion matrix you can see that again the False Positives are the main causes of errors. Note that even though the number of False Positives has increased, but the number of False Negatives is now zero. Next I will try a relatively simple, Logistic Regression model."
      ]
    },
    {
      "cell_type": "code",
      "metadata": {
        "id": "t8iTUTQZcCS3",
        "colab_type": "code",
        "colab": {}
      },
      "source": [
        "# Import the package\n",
        "from sklearn.linear_model import LogisticRegression\n",
        "LR = LogisticRegression(random_state=0)"
      ],
      "execution_count": null,
      "outputs": []
    },
    {
      "cell_type": "code",
      "metadata": {
        "id": "E-Yi-jf5Loo2",
        "colab_type": "code",
        "colab": {
          "base_uri": "https://localhost:8080/",
          "height": 225
        },
        "outputId": "870a113c-9423-4630-ca63-3f4ab3164613"
      },
      "source": [
        "# Fit model on train dataset\n",
        "LR1 = LR.fit(X_train, y_train)\n",
        "# Make the confustion matrix and calculate AUC score\n",
        "LR_pred = LR.predict(X_test)\n",
        "print(confusion_matrix(y_test, LR_pred))\n",
        "print(\"Test AUC score for LR is\", roc_auc_score(y_test, LR_pred))\n",
        "print(classification_report(y_test, LR_pred))"
      ],
      "execution_count": null,
      "outputs": [
        {
          "output_type": "stream",
          "text": [
            "[[907   4]\n",
            " [ 51  72]]\n",
            "Test AUC score for LR is 0.7904875371475998\n",
            "              precision    recall  f1-score   support\n",
            "\n",
            "           0       0.95      1.00      0.97       911\n",
            "           1       0.95      0.59      0.72       123\n",
            "\n",
            "    accuracy                           0.95      1034\n",
            "   macro avg       0.95      0.79      0.85      1034\n",
            "weighted avg       0.95      0.95      0.94      1034\n",
            "\n"
          ],
          "name": "stdout"
        }
      ]
    },
    {
      "cell_type": "markdown",
      "metadata": {
        "id": "gxvDOOHKPKMf",
        "colab_type": "text"
      },
      "source": [
        "As you can see, a realitvely simple model does not predict well, and next I will try more advance model: XGBoost."
      ]
    },
    {
      "cell_type": "code",
      "metadata": {
        "id": "SMZQMkcxNOLK",
        "colab_type": "code",
        "colab": {
          "base_uri": "https://localhost:8080/",
          "height": 575
        },
        "outputId": "aaab6f22-336a-4a6a-8588-80ab844b9555"
      },
      "source": [
        "# Import XGBoost and find the best parameters\n",
        "import xgboost as xgb\n",
        "xgbm = xgb.XGBClassifier\n",
        "def acc_model(params):\n",
        "    clf = xgbm(**params)\n",
        "    return cross_val_score(clf, X_train, y_train).mean()\n",
        "\n",
        "param_space = {\n",
        "    'learning rate': hp.quniform('learning rate', 0.001, 0.1, 0.05),\n",
        "    'n_estimators': hp.choice('n_estimators', range(200, 400)),\n",
        "    'subsample': hp.quniform('subsample', 0, 1, 0.1),\n",
        "    'colsample_bytree': hp.quniform('colsample_bytree', 0.1, 1, 0.05),\n",
        "    'reg_alpha': hp.choice('reg_alpha', [0.001, 0.01, 0.1])}\n",
        "\n",
        "best_xgb = 0\n",
        "best_params_xgb = []\n",
        "def f(params):\n",
        "    global best_xgb\n",
        "    acc = acc_model(params)\n",
        "    if acc > best_xgb:\n",
        "      best_xgb = acc\n",
        "      best_params_xgb.append(params)\n",
        "    print('The accuracy is {} and the best params are {}'.format(round(acc,3), params))\n",
        "    return -acc \n",
        "\n",
        "trials = Trials()\n",
        "best_xgb = fmin(f, param_space, algo=tpe.suggest, max_evals=30, trials=trials)"
      ],
      "execution_count": null,
      "outputs": [
        {
          "output_type": "stream",
          "text": [
            "The accuracy is 0.872 and the best params are {'colsample_bytree': 0.8500000000000001, 'learning rate': 0.1, 'n_estimators': 334, 'reg_alpha': 0.1, 'subsample': 0.0}\n",
            "The accuracy is 0.978 and the best params are {'colsample_bytree': 0.75, 'learning rate': 0.1, 'n_estimators': 328, 'reg_alpha': 0.1, 'subsample': 0.8}\n",
            "The accuracy is 0.872 and the best params are {'colsample_bytree': 0.9500000000000001, 'learning rate': 0.05, 'n_estimators': 291, 'reg_alpha': 0.001, 'subsample': 0.0}\n",
            "The accuracy is 0.977 and the best params are {'colsample_bytree': 0.15000000000000002, 'learning rate': 0.05, 'n_estimators': 373, 'reg_alpha': 0.001, 'subsample': 0.30000000000000004}\n",
            "The accuracy is 0.975 and the best params are {'colsample_bytree': 0.4, 'learning rate': 0.05, 'n_estimators': 213, 'reg_alpha': 0.01, 'subsample': 0.2}\n",
            "The accuracy is 0.974 and the best params are {'colsample_bytree': 0.30000000000000004, 'learning rate': 0.0, 'n_estimators': 211, 'reg_alpha': 0.001, 'subsample': 0.2}\n",
            "The accuracy is 0.974 and the best params are {'colsample_bytree': 0.45, 'learning rate': 0.05, 'n_estimators': 245, 'reg_alpha': 0.01, 'subsample': 0.2}\n",
            "The accuracy is 0.967 and the best params are {'colsample_bytree': 0.45, 'learning rate': 0.1, 'n_estimators': 390, 'reg_alpha': 0.01, 'subsample': 0.1}\n",
            "The accuracy is 0.976 and the best params are {'colsample_bytree': 0.7000000000000001, 'learning rate': 0.0, 'n_estimators': 201, 'reg_alpha': 0.001, 'subsample': 0.4}\n",
            "The accuracy is 0.975 and the best params are {'colsample_bytree': 0.55, 'learning rate': 0.0, 'n_estimators': 356, 'reg_alpha': 0.01, 'subsample': 0.30000000000000004}\n",
            "The accuracy is 0.978 and the best params are {'colsample_bytree': 0.75, 'learning rate': 0.05, 'n_estimators': 320, 'reg_alpha': 0.01, 'subsample': 0.7000000000000001}\n",
            "The accuracy is 0.978 and the best params are {'colsample_bytree': 0.8, 'learning rate': 0.05, 'n_estimators': 246, 'reg_alpha': 0.01, 'subsample': 0.5}\n",
            "The accuracy is 0.977 and the best params are {'colsample_bytree': 0.9500000000000001, 'learning rate': 0.05, 'n_estimators': 287, 'reg_alpha': 0.01, 'subsample': 0.7000000000000001}\n",
            "The accuracy is 0.976 and the best params are {'colsample_bytree': 0.4, 'learning rate': 0.1, 'n_estimators': 254, 'reg_alpha': 0.1, 'subsample': 0.30000000000000004}\n",
            "The accuracy is 0.977 and the best params are {'colsample_bytree': 0.7000000000000001, 'learning rate': 0.05, 'n_estimators': 233, 'reg_alpha': 0.1, 'subsample': 0.4}\n",
            "The accuracy is 0.977 and the best params are {'colsample_bytree': 1.0, 'learning rate': 0.0, 'n_estimators': 231, 'reg_alpha': 0.1, 'subsample': 0.4}\n",
            "The accuracy is 0.978 and the best params are {'colsample_bytree': 0.75, 'learning rate': 0.05, 'n_estimators': 306, 'reg_alpha': 0.1, 'subsample': 0.9}\n",
            "The accuracy is 0.967 and the best params are {'colsample_bytree': 0.35000000000000003, 'learning rate': 0.05, 'n_estimators': 327, 'reg_alpha': 0.001, 'subsample': 0.1}\n",
            "The accuracy is 0.978 and the best params are {'colsample_bytree': 0.65, 'learning rate': 0.0, 'n_estimators': 332, 'reg_alpha': 0.1, 'subsample': 0.9}\n",
            "The accuracy is 0.978 and the best params are {'colsample_bytree': 0.9500000000000001, 'learning rate': 0.05, 'n_estimators': 357, 'reg_alpha': 0.01, 'subsample': 0.5}\n",
            "The accuracy is 0.978 and the best params are {'colsample_bytree': 0.6000000000000001, 'learning rate': 0.0, 'n_estimators': 241, 'reg_alpha': 0.1, 'subsample': 1.0}\n",
            "The accuracy is 0.977 and the best params are {'colsample_bytree': 0.8500000000000001, 'learning rate': 0.0, 'n_estimators': 280, 'reg_alpha': 0.1, 'subsample': 0.6000000000000001}\n",
            "The accuracy is 0.977 and the best params are {'colsample_bytree': 0.6000000000000001, 'learning rate': 0.0, 'n_estimators': 200, 'reg_alpha': 0.01, 'subsample': 0.9}\n",
            "The accuracy is 0.978 and the best params are {'colsample_bytree': 0.65, 'learning rate': 0.1, 'n_estimators': 379, 'reg_alpha': 0.1, 'subsample': 1.0}\n",
            "The accuracy is 0.978 and the best params are {'colsample_bytree': 0.65, 'learning rate': 0.1, 'n_estimators': 332, 'reg_alpha': 0.1, 'subsample': 1.0}\n",
            "The accuracy is 0.976 and the best params are {'colsample_bytree': 0.2, 'learning rate': 0.1, 'n_estimators': 317, 'reg_alpha': 0.1, 'subsample': 0.9}\n",
            "The accuracy is 0.978 and the best params are {'colsample_bytree': 0.5, 'learning rate': 0.1, 'n_estimators': 379, 'reg_alpha': 0.1, 'subsample': 0.8}\n",
            "The accuracy is 0.978 and the best params are {'colsample_bytree': 0.55, 'learning rate': 0.0, 'n_estimators': 387, 'reg_alpha': 0.1, 'subsample': 0.8}\n",
            "The accuracy is 0.978 and the best params are {'colsample_bytree': 0.8500000000000001, 'learning rate': 0.1, 'n_estimators': 343, 'reg_alpha': 0.1, 'subsample': 1.0}\n",
            "The accuracy is 0.978 and the best params are {'colsample_bytree': 0.65, 'learning rate': 0.0, 'n_estimators': 392, 'reg_alpha': 0.1, 'subsample': 0.7000000000000001}\n",
            "100%|██████████| 30/30 [17:50<00:00, 35.67s/it, best loss: -0.9784764207980654]\n"
          ],
          "name": "stdout"
        }
      ]
    },
    {
      "cell_type": "code",
      "metadata": {
        "id": "mMG6kJ7HPdTu",
        "colab_type": "code",
        "colab": {
          "base_uri": "https://localhost:8080/",
          "height": 225
        },
        "outputId": "b6570ce2-d1b6-41ba-9bc5-291788df5225"
      },
      "source": [
        "# Fit model on train dataset\n",
        "xgb = xgb.XGBClassifier\n",
        "xgb = xgb(params = best_params_xgb[-1])\n",
        "xgb1 = xgb.fit(X_train, y_train)\n",
        "xgb_pred = xgb1.predict(X_test)\n",
        "print(confusion_matrix(y_test, xgb_pred))\n",
        "print(\"Test AUC score for XGBoost is\", roc_auc_score(y_test, xgb_pred))\n",
        "print(classification_report(y_test, xgb_pred))"
      ],
      "execution_count": null,
      "outputs": [
        {
          "output_type": "stream",
          "text": [
            "[[909   2]\n",
            " [ 26  97]]\n",
            "Test AUC score for XGBoost is 0.8932112482485965\n",
            "              precision    recall  f1-score   support\n",
            "\n",
            "           0       0.97      1.00      0.98       911\n",
            "           1       0.98      0.79      0.87       123\n",
            "\n",
            "    accuracy                           0.97      1034\n",
            "   macro avg       0.98      0.89      0.93      1034\n",
            "weighted avg       0.97      0.97      0.97      1034\n",
            "\n"
          ],
          "name": "stdout"
        }
      ]
    },
    {
      "cell_type": "markdown",
      "metadata": {
        "id": "rPInhBAj4mu6",
        "colab_type": "text"
      },
      "source": [
        "In the end, I will visualize all the ROC curves. Below is the code necessary to make the plot."
      ]
    },
    {
      "cell_type": "code",
      "metadata": {
        "id": "4ce9JNA5nGfH",
        "colab_type": "code",
        "colab": {
          "base_uri": "https://localhost:8080/",
          "height": 517
        },
        "outputId": "cca460c0-a00b-41d0-a259-22ab6bdb4501"
      },
      "source": [
        "# Visualize ROC curve for all the models\n",
        "# Define the parameters\n",
        "svc_fpr, svc_tpr, _ = roc_curve(y_test, SVC_pred)\n",
        "rf_fpr, rf_tpr, _ = roc_curve(y_test, RF_pred)\n",
        "lr_fpr, lr_tpr, _ = roc_curve(y_test, LR_pred)\n",
        "xgb_fpr, xgp_tpr, _ = roc_curve(y_test, xgb_pred)\n",
        "# Make the plot\n",
        "plt.figure(figsize=(8,8))\n",
        "plt.plot([0,1],[0,1], 'k--')\n",
        "plt.plot(svc_fpr, svc_tpr, label= \"SVC\")\n",
        "plt.plot(rf_fpr, rf_tpr, label= \"RF\")\n",
        "plt.plot(lr_fpr, lr_tpr, label= \"LR\")\n",
        "plt.plot(xgb_fpr, xgp_tpr, label= \"XGBoost\")\n",
        "plt.legend()\n",
        "plt.xlabel(\"False Positive Rate\")\n",
        "plt.ylabel(\"True Positive Rate\")\n",
        "plt.title('Receiver Operating Characteristic')\n",
        "plt.show()"
      ],
      "execution_count": null,
      "outputs": [
        {
          "output_type": "display_data",
          "data": {
            "image/png": "[encoded data removed]",
            "text/plain": [
              "<Figure size 576x576 with 1 Axes>"
            ]
          },
          "metadata": {
            "tags": []
          }
        }
      ]
    },
    {
      "cell_type": "markdown",
      "metadata": {
        "id": "A79_YmOlKjzO",
        "colab_type": "text"
      },
      "source": [
        "Overall, after trying XGBoost, Logistic Regression, Random Forest, and SVM, I found that SVM model has the highest accuracy (around 98%). Nore also that the tree based models (XGBoost and RF) were performing well as well, and had accuracy of 97%. The simple model, Logistic Regression, was not good for prediciont as it had relatively low accuracy (95%) and AUC (0.89) scores. The errors are associated mainly with False Positives, when the algorithm predicts messages to be spam, even though they are not. The reason why SVM performs better than XGBoost can be the small number of observations (5,169 in total)."
      ]
    }
  ]
}